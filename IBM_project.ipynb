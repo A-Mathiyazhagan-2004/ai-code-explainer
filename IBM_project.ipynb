{
  "nbformat": 4,
  "nbformat_minor": 0,
  "metadata": {
    "colab": {
      "provenance": []
    },
    "kernelspec": {
      "name": "python3",
      "display_name": "Python 3"
    },
    "language_info": {
      "name": "python"
    }
  },
  "cells": [
    {
      "cell_type": "code",
      "source": [
        "!pip install -q google-generativeai"
      ],
      "metadata": {
        "id": "jqcic2IHLAoB"
      },
      "execution_count": 10,
      "outputs": []
    },
    {
      "cell_type": "code",
      "source": [
        "import google.generativeai as genai\n",
        "from google.colab import files"
      ],
      "metadata": {
        "id": "fF0lZ5T2LyIG"
      },
      "execution_count": 11,
      "outputs": []
    },
    {
      "cell_type": "code",
      "source": [
        "genai.configure(api_key=\"API KEY\") #give your api key here\n",
        "model = genai.GenerativeModel(\"models/gemini-1.5-flash\")"
      ],
      "metadata": {
        "id": "v8xbSwaSL2OK"
      },
      "execution_count": 12,
      "outputs": []
    },
    {
      "cell_type": "code",
      "source": [
        "session_history = []"
      ],
      "metadata": {
        "id": "0W6XRH-hMBL-"
      },
      "execution_count": 13,
      "outputs": []
    },
    {
      "cell_type": "code",
      "source": [
        "def explain_code(code_snippet, language, mode, compare_code=None):\n",
        "    if compare_code:\n",
        "        prompt = (\n",
        "            f\"You are an AI code reviewer.\\n\"\n",
        "            f\"Compare the following two {language} code snippets.\\n\"\n",
        "            f\"Explain which one is better in terms of time and space complexity, and why.\\n\"\n",
        "            f\"Suggest improvements if possible.\\n\\n\"\n",
        "            f\"First code:\\n```{language.lower()}\\n{code_snippet}\\n```\\n\"\n",
        "            f\"Second code:\\n```{language.lower()}\\n{compare_code}\\n```\"\n",
        "        )\n",
        "    else:\n",
        "        prompt = (\n",
        "            f\"You are an AI assistant that explains {language} code to beginners.\\n\"\n",
        "            f\"Explain the following {language} code clearly in simple English, \"\n",
        "            f\"{'line by line' if mode == 'line-by-line' else 'as a summary'}.\\n\"\n",
        "            f\"Estimate time complexity and space complexity.\\n\"\n",
        "            f\"Point out any potential issues or bad practices.\\n\"\n",
        "            f\"Suggest an optimized version if possible.\\n\\n\"\n",
        "            f\"```{language.lower()}\\n{code_snippet}\\n```\"\n",
        "        )\n",
        "    response = model.generate_content(prompt)\n",
        "    return response.text"
      ],
      "metadata": {
        "id": "f5EMZ7RCMGEw"
      },
      "execution_count": 14,
      "outputs": []
    },
    {
      "cell_type": "code",
      "source": [
        "def c(text, color):\n",
        "    codes = {\n",
        "        \"pink\": \"\\033[1;35m\",\n",
        "        \"cyan\": \"\\033[1;36m\",\n",
        "        \"green\": \"\\033[1;32m\",\n",
        "        \"blue\": \"\\033[1;34m\",\n",
        "        \"red\": \"\\033[1;31m\",\n",
        "        \"end\": \"\\033[0m\"\n",
        "    }\n",
        "    return f\"{codes.get(color, '')}{text}{codes['end']}\""
      ],
      "metadata": {
        "id": "Sr2G1x5-MadB"
      },
      "execution_count": 15,
      "outputs": []
    },
    {
      "cell_type": "code",
      "source": [
        "session_count = 0\n",
        "saved_files = []"
      ],
      "metadata": {
        "id": "KpXw99VrMbcc"
      },
      "execution_count": 16,
      "outputs": []
    },
    {
      "cell_type": "code",
      "source": [
        "while True:\n",
        "\n",
        "    print(c(\"\\n ========= AI CODE EXPLAINER =========\", \"pink\"))\n",
        "    print(c(\"1️ Enter your code\", \"cyan\"))\n",
        "    print(c(\"2️ Choose language\", \"cyan\"))\n",
        "    print(c(\"3️ Choose explanation type\", \"cyan\"))\n",
        "    print(c(\"4️ Generate explanation + analysis + suggestions\", \"cyan\"))\n",
        "    print(c(\"5 Save + Download explanation\", \"cyan\"))\n",
        "    print(c(\"======================================\", \"pink\"))\n",
        "\n",
        "    print(c(\"\\n Please enter your main code (type END on a new line to finish):\", \"green\"))\n",
        "    code_lines = []\n",
        "    while True:\n",
        "        line = input()\n",
        "        if line.strip().upper() == \"END\":\n",
        "            break\n",
        "        code_lines.append(line)\n",
        "    code_input = \"\\n\".join(code_lines)\n",
        "\n",
        "    compare = input(c(\"Do you want to input another code to compare? (yes/no): \", \"blue\")).strip().lower()\n",
        "    compare_code_input = None\n",
        "    if compare == \"yes\":\n",
        "        print(c(\" Please enter the second code (type END on a new line to finish):\", \"green\"))\n",
        "        code_lines = []\n",
        "        while True:\n",
        "            line = input()\n",
        "            if line.strip().upper() == \"END\":\n",
        "                break\n",
        "            code_lines.append(line)\n",
        "        compare_code_input = \"\\n\".join(code_lines)\n",
        "\n",
        "    language = input(c(\"\\nEnter programming language (default Python): \", \"blue\")).strip() or \"Python\"\n",
        "\n",
        "    mode = input(c(\"Choose explanation type (line-by-line / summary, default line-by-line): \", \"blue\")).strip() or \"line-by-line\"\n",
        "\n",
        "    print(c(\"\\n🔹 Generating explanation, analysis, and suggestions...\\n\", \"green\"))\n",
        "    explanation = explain_code(code_input, language, mode, compare_code=compare_code_input)\n",
        "    print(c(\"===== AI EXPLANATION =====\", \"pink\"))\n",
        "    print(explanation)\n",
        "\n",
        "    session_count += 1\n",
        "    save_format = input(c(\"\\nSave as txt or md? (default txt): \", \"blue\")).strip() or \"txt\"\n",
        "    filename = f\"ai_code_explanation_{session_count}.{save_format}\"\n",
        "    with open(filename, \"w\") as f:\n",
        "        f.write(explanation)\n",
        "    saved_files.append(filename)\n",
        "    print(c(f\"✅ Explanation saved to {filename}\", \"green\"))\n",
        "    files.download(filename)\n",
        "\n",
        "    session_history.append({\n",
        "        \"code\": code_input,\n",
        "        \"compare_code\": compare_code_input,\n",
        "        \"language\": language,\n",
        "        \"mode\": mode,\n",
        "        \"file\": filename\n",
        "    })\n",
        "\n",
        "    cont = input(c(\"\\nDo you want to explain another code snippet? (yes/no): \", \"blue\")).strip().lower()\n",
        "    if cont != \"yes\":\n",
        "        break"
      ],
      "metadata": {
        "colab": {
          "base_uri": "https://localhost:8080/",
          "height": 1000
        },
        "id": "-LcmLwX9MhxQ",
        "outputId": "826c513e-74b7-4816-8607-2840ee0f7ad4"
      },
      "execution_count": 18,
      "outputs": [
        {
          "output_type": "stream",
          "name": "stdout",
          "text": [
            "\u001b[1;35m\n",
            " ========= AI CODE EXPLAINER =========\u001b[0m\n",
            "\u001b[1;36m1️ Enter your code\u001b[0m\n",
            "\u001b[1;36m2️ Choose language\u001b[0m\n",
            "\u001b[1;36m3️ Choose explanation type\u001b[0m\n",
            "\u001b[1;36m4️ Generate explanation + analysis + suggestions\u001b[0m\n",
            "\u001b[1;36m5 Save + Download explanation\u001b[0m\n",
            "\u001b[1;35m======================================\u001b[0m\n",
            "\u001b[1;32m\n",
            " Please enter your main code (type END on a new line to finish):\u001b[0m\n",
            "int linearSearch(int arr[], int n, int x) {     for (int i = 0; i < n; i++) {         if (arr[i] == x)             return i;     }     return -1; } END\n",
            "END\n",
            "\u001b[1;34mDo you want to input another code to compare? (yes/no): \u001b[0myes\n",
            "\u001b[1;32m Please enter the second code (type END on a new line to finish):\u001b[0m\n",
            "int binarySearch(int arr[], int left, int right, int x) {     if (right >= left) {         int mid = left + (right - left) / 2;         if (arr[mid] == x)             return mid;         if (arr[mid] > x)             return binarySearch(arr, left, mid - 1, x);         return binarySearch(arr, mid + 1, right, x);     }     return -1; } END\n",
            "END\n",
            "\u001b[1;34m\n",
            "Enter programming language (default Python): \u001b[0mc\n",
            "\u001b[1;34mChoose explanation type (line-by-line / summary, default line-by-line): \u001b[0msummary\n",
            "\u001b[1;32m\n",
            "🔹 Generating explanation, analysis, and suggestions...\n",
            "\u001b[0m\n",
            "\u001b[1;35m===== AI EXPLANATION =====\u001b[0m\n",
            "The two code snippets implement linear search and binary search respectively.  Let's analyze their time and space complexity:\n",
            "\n",
            "**Linear Search:**\n",
            "\n",
            "* **Time Complexity:** O(n) - In the worst case, the algorithm iterates through all `n` elements of the array.  The best case is O(1) if the element is found at the beginning.  Average case is also O(n).\n",
            "* **Space Complexity:** O(1) - The algorithm uses a constant amount of extra space regardless of the input size.  It's iterative, not recursive.\n",
            "\n",
            "\n",
            "**Binary Search:**\n",
            "\n",
            "* **Time Complexity:** O(log n) - Binary search repeatedly divides the search interval in half.  This makes it significantly faster than linear search for large arrays.  The time complexity is logarithmic because the number of comparisons needed grows proportionally to the logarithm of the input size.\n",
            "* **Space Complexity:** O(log n) -  This is due to the recursive calls.  In the worst case, the recursion depth can be proportional to log₂(n).  An iterative implementation would reduce this to O(1).\n",
            "\n",
            "\n",
            "**Which is better?**\n",
            "\n",
            "Binary search is significantly better than linear search in terms of *time complexity* for sorted arrays.  Its logarithmic time complexity means it scales much better with increasing input size. Linear search is only preferable for unsorted data or very small arrays where the overhead of sorting would outweigh the benefits of binary search.\n",
            "\n",
            "\n",
            "**Improvements:**\n",
            "\n",
            "**Linear Search:**  No significant improvements are needed unless you have specific knowledge about the distribution of elements in the array (e.g., if you know the element is more likely to be found in the first half).\n",
            "\n",
            "**Binary Search:**\n",
            "\n",
            "1. **Iterative Implementation:** The recursive implementation can lead to stack overflow errors for very large arrays. An iterative version is generally preferred for its improved space complexity (O(1)).\n",
            "\n",
            "   ```c\n",
            "   int binarySearchIterative(int arr[], int n, int x) {\n",
            "       int left = 0;\n",
            "       int right = n - 1;\n",
            "       while (left <= right) {\n",
            "           int mid = left + (right - left) / 2; // Avoid overflow\n",
            "           if (arr[mid] == x) return mid;\n",
            "           else if (arr[mid] < x) left = mid + 1;\n",
            "           else right = mid - 1;\n",
            "       }\n",
            "       return -1;\n",
            "   }\n",
            "   ```\n",
            "\n",
            "2. **Error Handling:**  Neither function explicitly handles the case where the input array is `NULL`.  Adding a check for this would make them more robust.\n",
            "\n",
            "\n",
            "**In summary:**  For sorted arrays, the iterative version of binary search is vastly superior to linear search in terms of time complexity and is generally preferred for its efficiency and avoidance of potential stack overflow issues.  However, linear search is a simpler algorithm and suitable for unsorted data or small arrays.\n",
            "\n",
            "\u001b[1;34m\n",
            "Save as txt or md? (default txt): \u001b[0mtxt\n",
            "\u001b[1;32m✅ Explanation saved to ai_code_explanation_1.txt\u001b[0m\n"
          ]
        },
        {
          "output_type": "display_data",
          "data": {
            "text/plain": [
              "<IPython.core.display.Javascript object>"
            ],
            "application/javascript": [
              "\n",
              "    async function download(id, filename, size) {\n",
              "      if (!google.colab.kernel.accessAllowed) {\n",
              "        return;\n",
              "      }\n",
              "      const div = document.createElement('div');\n",
              "      const label = document.createElement('label');\n",
              "      label.textContent = `Downloading \"${filename}\": `;\n",
              "      div.appendChild(label);\n",
              "      const progress = document.createElement('progress');\n",
              "      progress.max = size;\n",
              "      div.appendChild(progress);\n",
              "      document.body.appendChild(div);\n",
              "\n",
              "      const buffers = [];\n",
              "      let downloaded = 0;\n",
              "\n",
              "      const channel = await google.colab.kernel.comms.open(id);\n",
              "      // Send a message to notify the kernel that we're ready.\n",
              "      channel.send({})\n",
              "\n",
              "      for await (const message of channel.messages) {\n",
              "        // Send a message to notify the kernel that we're ready.\n",
              "        channel.send({})\n",
              "        if (message.buffers) {\n",
              "          for (const buffer of message.buffers) {\n",
              "            buffers.push(buffer);\n",
              "            downloaded += buffer.byteLength;\n",
              "            progress.value = downloaded;\n",
              "          }\n",
              "        }\n",
              "      }\n",
              "      const blob = new Blob(buffers, {type: 'application/binary'});\n",
              "      const a = document.createElement('a');\n",
              "      a.href = window.URL.createObjectURL(blob);\n",
              "      a.download = filename;\n",
              "      div.appendChild(a);\n",
              "      a.click();\n",
              "      div.remove();\n",
              "    }\n",
              "  "
            ]
          },
          "metadata": {}
        },
        {
          "output_type": "display_data",
          "data": {
            "text/plain": [
              "<IPython.core.display.Javascript object>"
            ],
            "application/javascript": [
              "download(\"download_dbc0f20c-9f43-4629-952d-fed31d216cc2\", \"ai_code_explanation_1.txt\", 2719)"
            ]
          },
          "metadata": {}
        },
        {
          "name": "stdout",
          "output_type": "stream",
          "text": [
            "\u001b[1;34m\n",
            "Do you want to explain another code snippet? (yes/no): \u001b[0mno\n"
          ]
        }
      ]
    },
    {
      "cell_type": "code",
      "source": [
        "print(c(\"\\nSESSION SUMMARY\", \"pink\"))\n",
        "print(f\"- {session_count} code snippets explained\")\n",
        "print(f\"- Files saved: {', '.join(saved_files)}\")"
      ],
      "metadata": {
        "colab": {
          "base_uri": "https://localhost:8080/"
        },
        "id": "ZM0WrHdUNEWy",
        "outputId": "621e6d96-bd5e-4f0e-d137-259b8a0bd26c"
      },
      "execution_count": 19,
      "outputs": [
        {
          "output_type": "stream",
          "name": "stdout",
          "text": [
            "\u001b[1;35m\n",
            "SESSION SUMMARY\u001b[0m\n",
            "- 1 code snippets explained\n",
            "- Files saved: ai_code_explanation_1.txt\n"
          ]
        }
      ]
    }
  ]
}